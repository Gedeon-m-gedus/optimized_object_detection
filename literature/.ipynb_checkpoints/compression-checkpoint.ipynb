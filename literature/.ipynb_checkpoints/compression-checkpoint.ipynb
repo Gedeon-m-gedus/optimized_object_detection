{
 "cells": [
  {
   "cell_type": "markdown",
   "metadata": {},
   "source": [
    "# MODEL COMPRESSION\n",
    "\n",
    "**Motivation**: Design and implementation of object detection model that could run efficiently on edge devices"
   ]
  },
  {
   "cell_type": "markdown",
   "metadata": {},
   "source": [
    "###  Challenges of Deep learning on edge devices\n",
    "+ Model size\n",
    "+ Inference speed (number of computations)\n"
   ]
  },
  {
   "cell_type": "markdown",
   "metadata": {},
   "source": [
    "| Operation | Energy[pJ] | Relative cost |\n",
    "| --- | --- | --- |\n",
    "| 32bit int ADD | 0.1 | 1 |\n",
    "| 32bit float ADD | 0.9 | 9 |\n",
    "| 32bit register file | 1 | 10 |\n",
    "| 32bit int MULT | 3.1 | 31 |\n",
    "| 32bit float MULT | 3.7 | 37 |\n",
    "| 32bit SRAM Cash | 5 | 50 |\n",
    "| <font color=red>32bit DRAM Memory</font> | <font color=red>640</font> | <font color=red>6400</font> |"
   ]
  },
  {
   "cell_type": "markdown",
   "metadata": {},
   "source": [
    "## Model compression pipeline\n",
    "The most problem of runnig deep models on edge devices is due to the memory size and the number of computations required at inference.\n",
    "\n",
    "\n",
    "+ **Pruning** would help to remove redundancy and sparsity in the model weights\n",
    "+ **Quantization** would help in storage as well as computation as the numbers will be represented by few bits\n",
    "+ I am suggesting to add **Tensor decomposition**: the idea is to compute the rank of the weight matrix and store it more efficiently"
   ]
  },
  {
   "cell_type": "markdown",
   "metadata": {},
   "source": [
    "<img src=\"tensor_decomposition2.jpg\"\n",
    "     alt=\"Markdown Monster icon\"\n",
    "     style=\"float: left; margin-right: 10px;\" />"
   ]
  },
  {
   "cell_type": "markdown",
   "metadata": {},
   "source": [
    "## Tensor decomposition\n",
    "\n",
    "Tensor decomposition could help to do model compression.\n",
    "The idea behind is to compute the rank of the weight matrix and store the parameters more efficiently."
   ]
  },
  {
   "cell_type": "markdown",
   "metadata": {},
   "source": [
    "#### Example of matrix decomposition for reducing the number of parameters\n",
    "Assume $A = \\begin{bmatrix} 3 & 2 & 2 \\\\ 2 & 3 & -2 \\end{bmatrix}$\n",
    " is a rectangular matrix, $A \\in I\\!R^{2x3}$\n",
    " + if we assume this matrix to be our weight matrix, the total number of parameters will be <font color=red>$2 \\times 3 = 6$</font> \n",
    " + Using SVD A can be represented as $A=U \\Sigma V^T$\n",
    " \n",
    " The SVD of matrix $A$ will be: $A = \n",
    "\\begin{bmatrix} \\frac{1}{\\sqrt{2}} & \\frac{1}{\\sqrt{2}}  \\\\ \\frac{1}{\\sqrt{2}} & -\\frac{1}{\\sqrt{2}} \\end{bmatrix}\n",
    "\\begin{bmatrix} 5 & 0 & 0 \\\\ 0 & 3 & 0 \\end{bmatrix}\n",
    "\\begin{bmatrix} \\frac{1}{\\sqrt{2}} & \\frac{1}{\\sqrt{2}} & 0 \\\\ \\frac{1}{\\sqrt{18}} & -\\frac{1}{\\sqrt{18}} & \\frac{4}{\\sqrt{18}}\\\\ \\frac{2}{3} & -\\frac{2}{3} & -\\frac{1}{3} \\end{bmatrix}$\n",
    "\n",
    "As I want to factorize $A$ I will be looking for $B$ and $C$, such that $A = BC$, where $B\\in I\\!R^{2xR}$ and $C \\in I\\!R^{Rx3}$\n",
    "\n",
    "#### Now consider R=1\n",
    "$A = \n",
    "\\begin{bmatrix} \\frac{1}{\\sqrt{2}}   \\\\ \\frac{1}{\\sqrt{2}}  \\end{bmatrix}\n",
    "\\begin{bmatrix} 5  \\end{bmatrix}\n",
    "\\begin{bmatrix} \\frac{1}{\\sqrt{2}} & \\frac{1}{\\sqrt{2}} & 0  \\end{bmatrix}$\n",
    "\n",
    "  $ = \n",
    "\\begin{bmatrix} \\frac{5}{\\sqrt{2}}   \\\\ \\frac{5}{\\sqrt{2}}  \\end{bmatrix}\n",
    "\\begin{bmatrix} \\frac{1}{\\sqrt{2}} & \\frac{1}{\\sqrt{2}} & 0  \\end{bmatrix}$\n",
    "\n",
    "Finally, the number of parameters that we will need to store will be <font color=green>$(2+3) \\times 1 = 5$</font> "
   ]
  },
  {
   "cell_type": "code",
   "execution_count": 21,
   "metadata": {},
   "outputs": [],
   "source": [
    "import numpy as np"
   ]
  },
  {
   "cell_type": "code",
   "execution_count": 54,
   "metadata": {},
   "outputs": [
    {
     "data": {
      "text/plain": [
       "array([[ 3,  2,  2],\n",
       "       [ 3,  2, -2]])"
      ]
     },
     "execution_count": 54,
     "metadata": {},
     "output_type": "execute_result"
    }
   ],
   "source": [
    "A = np.array([[3,2,2],[3,2,-2]])\n",
    "A"
   ]
  },
  {
   "cell_type": "code",
   "execution_count": 55,
   "metadata": {},
   "outputs": [
    {
     "name": "stdout",
     "output_type": "stream",
     "text": [
      "\n",
      " (2, 3) \n",
      " (2, 2) \n",
      " (2,) \n",
      " (3, 3)\n"
     ]
    }
   ],
   "source": [
    "U, S, V_t = np.linalg.svd(A, full_matrices=True)\n",
    "print('\\n',A.shape,'\\n',U.shape,'\\n',S.shape,'\\n',V_t.shape)"
   ]
  },
  {
   "cell_type": "code",
   "execution_count": 56,
   "metadata": {},
   "outputs": [
    {
     "data": {
      "text/plain": [
       "array([[-0.70710678, -0.70710678],\n",
       "       [-0.70710678,  0.70710678]])"
      ]
     },
     "execution_count": 56,
     "metadata": {},
     "output_type": "execute_result"
    }
   ],
   "source": [
    "U"
   ]
  },
  {
   "cell_type": "code",
   "execution_count": 57,
   "metadata": {},
   "outputs": [
    {
     "data": {
      "text/plain": [
       "array([5.09901951, 2.82842712])"
      ]
     },
     "execution_count": 57,
     "metadata": {},
     "output_type": "execute_result"
    }
   ],
   "source": [
    "S"
   ]
  },
  {
   "cell_type": "code",
   "execution_count": 58,
   "metadata": {},
   "outputs": [
    {
     "data": {
      "text/plain": [
       "array([[-8.32050294e-01, -5.54700196e-01, -2.22044605e-16],\n",
       "       [ 5.55111512e-17, -5.55111512e-17, -1.00000000e+00],\n",
       "       [-5.54700196e-01,  8.32050294e-01,  0.00000000e+00]])"
      ]
     },
     "execution_count": 58,
     "metadata": {},
     "output_type": "execute_result"
    }
   ],
   "source": [
    "V_t"
   ]
  },
  {
   "cell_type": "markdown",
   "metadata": {},
   "source": [
    "### Lets take R=1"
   ]
  },
  {
   "cell_type": "code",
   "execution_count": 59,
   "metadata": {},
   "outputs": [
    {
     "data": {
      "text/plain": [
       "array([-3.60555128, -3.60555128])"
      ]
     },
     "execution_count": 59,
     "metadata": {},
     "output_type": "execute_result"
    }
   ],
   "source": [
    "B = U[:,0] * S[0]\n",
    "B"
   ]
  },
  {
   "cell_type": "code",
   "execution_count": 60,
   "metadata": {},
   "outputs": [
    {
     "data": {
      "text/plain": [
       "array([-8.32050294e-01, -5.54700196e-01, -2.22044605e-16])"
      ]
     },
     "execution_count": 60,
     "metadata": {},
     "output_type": "execute_result"
    }
   ],
   "source": [
    "C = V_t[0,:]\n",
    "C"
   ]
  },
  {
   "cell_type": "code",
   "execution_count": 61,
   "metadata": {},
   "outputs": [
    {
     "data": {
      "text/plain": [
       "array([[3.00000000e+00, 2.00000000e+00, 8.00593208e-16],\n",
       "       [3.00000000e+00, 2.00000000e+00, 8.00593208e-16]])"
      ]
     },
     "execution_count": 61,
     "metadata": {},
     "output_type": "execute_result"
    }
   ],
   "source": [
    "A_ = np.outer(B,C)\n",
    "A_"
   ]
  },
  {
   "cell_type": "code",
   "execution_count": 62,
   "metadata": {},
   "outputs": [
    {
     "data": {
      "text/plain": [
       "array([[ True,  True, False],\n",
       "       [ True,  True, False]])"
      ]
     },
     "execution_count": 62,
     "metadata": {},
     "output_type": "execute_result"
    }
   ],
   "source": [
    "abs(A_ - A) < 0.000001"
   ]
  },
  {
   "cell_type": "markdown",
   "metadata": {},
   "source": [
    "## Tensor decomposition \n",
    "##### CP decomposition\n",
    "$T\\in I\\!R^{d1 \\times d2 \\times d3}$, we will decompose our tensor into $A\\in I\\!R^{d1 \\times R}$ , $B\\in I\\!R^{d2 \\times R}$ and $C\\in I\\!R^{d3 \\times R}$\n",
    "##### Tucker decomposition\n",
    "$T\\in I\\!R^{d1 \\times d2 \\times d3}$, we will decompose our tensor into $G\\in I\\!R^{R1 \\times R2 \\times R3}$ and $U_i\\in I\\!R^{d_i \\times R_i} $ for $i$ in [1,2,3]\n",
    "+ $G$ is a core tensor\n",
    "+ $U_i$ are factor matrices\n",
    "\n",
    "##### Tensor Train decomposition\n",
    "$T\\in I\\!R^{d1 \\times d2 \\times d3 \\times d4}$, we will decompose our tensor into $G_1\\in I\\!R^{d1 \\times R1}$ , $G_2\\in I\\!R^{R1 \\times d2 \\times R2}$ , $G_3\\in I\\!R^{R2 \\times d3 \\times R3}$ , $G_4\\in I\\!R^{R_4 \\times d_4}$  \n",
    "+ $G_i$ are a core tensors"
   ]
  },
  {
   "cell_type": "code",
   "execution_count": null,
   "metadata": {},
   "outputs": [],
   "source": []
  }
 ],
 "metadata": {
  "kernelspec": {
   "display_name": "Python 3",
   "language": "python",
   "name": "python3"
  },
  "language_info": {
   "codemirror_mode": {
    "name": "ipython",
    "version": 3
   },
   "file_extension": ".py",
   "mimetype": "text/x-python",
   "name": "python",
   "nbconvert_exporter": "python",
   "pygments_lexer": "ipython3",
   "version": "3.7.3"
  }
 },
 "nbformat": 4,
 "nbformat_minor": 2
}
