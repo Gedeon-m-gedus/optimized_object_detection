{
 "cells": [
  {
   "cell_type": "code",
   "execution_count": 23,
   "metadata": {},
   "outputs": [],
   "source": [
    "\n",
    "num_images = 540\n",
    "train = []\n",
    "valid = []\n",
    "path = './data/'\n",
    "file1 = '.val.txt'\n",
    "file2 = '.train.txt'\n",
    "for i in range(num_images):\n",
    "    #print (i)\n",
    "    if i % 10 == 0:\n",
    "        valid.append(str(i))\n",
    "        \n",
    "    else:\n",
    "        train.append(str(i))"
   ]
  },
  {
   "cell_type": "code",
   "execution_count": 26,
   "metadata": {},
   "outputs": [],
   "source": [
    "import cv2\n",
    "import os\n",
    "import random\n",
    "import os.path as osp\n",
    "import numpy as np"
   ]
  },
  {
   "cell_type": "code",
   "execution_count": 32,
   "metadata": {},
   "outputs": [],
   "source": [
    "# with open(os.path.join(path, file2), 'w') as train_file: \n",
    "#     #pass\n",
    "#     for line in train:\n",
    "#         line = line+'\\n'\n",
    "#         train_file.write(line)\n",
    "# with open(os.path.join(path, file1), 'w') as val_file: \n",
    "#     #pass\n",
    "#     for line in valid:\n",
    "#         line = line+'\\n'\n",
    "#         val_file.write(line)"
   ]
  },
  {
   "cell_type": "code",
   "execution_count": 29,
   "metadata": {},
   "outputs": [],
   "source": [
    "f=open('train.txt','w')\n",
    "for ele in train:\n",
    "    f.write(ele+'\\n')\n",
    "\n",
    "f.close()"
   ]
  },
  {
   "cell_type": "code",
   "execution_count": 30,
   "metadata": {},
   "outputs": [],
   "source": [
    "f=open('valid.txt','w')\n",
    "for ele in valid:\n",
    "    f.write(ele+'\\n')\n",
    "\n",
    "f.close()"
   ]
  },
  {
   "cell_type": "code",
   "execution_count": 34,
   "metadata": {},
   "outputs": [
    {
     "data": {
      "text/plain": [
       "486"
      ]
     },
     "execution_count": 34,
     "metadata": {},
     "output_type": "execute_result"
    }
   ],
   "source": [
    "len(train)"
   ]
  },
  {
   "cell_type": "code",
   "execution_count": null,
   "metadata": {},
   "outputs": [],
   "source": []
  }
 ],
 "metadata": {
  "kernelspec": {
   "display_name": "Python 3",
   "language": "python",
   "name": "python3"
  },
  "language_info": {
   "codemirror_mode": {
    "name": "ipython",
    "version": 3
   },
   "file_extension": ".py",
   "mimetype": "text/x-python",
   "name": "python",
   "nbconvert_exporter": "python",
   "pygments_lexer": "ipython3",
   "version": "3.7.3"
  }
 },
 "nbformat": 4,
 "nbformat_minor": 2
}
