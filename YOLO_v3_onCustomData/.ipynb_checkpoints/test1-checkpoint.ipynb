{
 "cells": [
  {
   "cell_type": "code",
   "execution_count": 35,
   "metadata": {},
   "outputs": [],
   "source": [
    "import cv2\n",
    "import os\n",
    "import random\n",
    "import os.path as osp\n",
    "import numpy as np"
   ]
  },
  {
   "cell_type": "markdown",
   "metadata": {},
   "source": [
    "## Storing data in the same directory"
   ]
  },
  {
   "cell_type": "code",
   "execution_count": 36,
   "metadata": {},
   "outputs": [],
   "source": [
    "def read_images(images = 'human'):\n",
    "    try:\n",
    "        imlist = [osp.join(osp.realpath('.'), images, img) for img in os.listdir(images)]\n",
    "    except NotADirectoryError:\n",
    "        imlist = []\n",
    "        imlist.append(osp.join(osp.realpath('.'), images))\n",
    "    except FileNotFoundError:\n",
    "        print (\"No file or directory with the name {}\".format(images))\n",
    "        exit()\n",
    "    return imlist"
   ]
  },
  {
   "cell_type": "code",
   "execution_count": 43,
   "metadata": {},
   "outputs": [],
   "source": [
    "images_list = read_images(images = 'human')\n",
    "images_list2 = read_images(images = 'gorilla')\n",
    "loaded_ims = [cv2.imread(x) for x in images_list]\n",
    "loaded_ims2 = [cv2.imread(x) for x in images_list2]\n",
    "loaded = loaded_ims + loaded_ims2\n",
    "for i in range (len(loaded)):\n",
    "    dets = cv2.UMat(np.array(loaded[i]))\n",
    "    cv2.imwrite('./data/images/'+str(i)+'.jpg',dets)"
   ]
  },
  {
   "cell_type": "code",
   "execution_count": null,
   "metadata": {},
   "outputs": [],
   "source": []
  }
 ],
 "metadata": {
  "kernelspec": {
   "display_name": "Python 3",
   "language": "python",
   "name": "python3"
  },
  "language_info": {
   "codemirror_mode": {
    "name": "ipython",
    "version": 3
   },
   "file_extension": ".py",
   "mimetype": "text/x-python",
   "name": "python",
   "nbconvert_exporter": "python",
   "pygments_lexer": "ipython3",
   "version": "3.7.3"
  }
 },
 "nbformat": 4,
 "nbformat_minor": 2
}
