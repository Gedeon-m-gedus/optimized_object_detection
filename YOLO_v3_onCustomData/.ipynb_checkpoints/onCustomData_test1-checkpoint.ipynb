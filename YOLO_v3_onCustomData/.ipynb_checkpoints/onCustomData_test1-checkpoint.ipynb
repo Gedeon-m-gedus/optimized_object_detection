{
 "cells": [
  {
   "cell_type": "code",
   "execution_count": 71,
   "metadata": {},
   "outputs": [],
   "source": [
    "import cv2\n",
    "import os\n",
    "import random\n",
    "import os.path as osp\n",
    "import numpy as np"
   ]
  },
  {
   "cell_type": "code",
   "execution_count": 72,
   "metadata": {},
   "outputs": [],
   "source": [
    "def read_images(images ):\n",
    "    try:\n",
    "        imlist = [osp.join(osp.realpath('.'), images, img) for img in sorted(os.listdir(images))]\n",
    "    except NotADirectoryError:\n",
    "        imlist = []\n",
    "        imlist.append(osp.join(osp.realpath('.'), images))\n",
    "    except FileNotFoundError:\n",
    "        print (\"No file or directory with the name {}\".format(images))\n",
    "        exit()\n",
    "    return imlist"
   ]
  },
  {
   "cell_type": "code",
   "execution_count": 79,
   "metadata": {},
   "outputs": [],
   "source": [
    "def preprocess_data(train_split=0.9):\n",
    "    train_split = 100 - (100*train_split)\n",
    "    train_split = int(100//train_split)\n",
    "    print(train_split)\n",
    "    if train_split < 2:train_split = 2\n",
    "    images_list = read_images(images = 'data/images')\n",
    "    im_names = []\n",
    "    for i in range(len(images_list)):\n",
    "        im_names.append(int(images_list[i][150:-4]))\n",
    "    im_names = sorted(im_names)\n",
    "    train_im_names = []\n",
    "    val_im_names = []\n",
    "    for k,i in enumerate(im_names):\n",
    "        if i%train_split==0:\n",
    "            temp1 = images_list[0][:150]\n",
    "            temp2 = images_list[0][-4:]\n",
    "            val_im_names.append(temp1 + str(i) + temp2)\n",
    "            \n",
    "        else:\n",
    "            temp1 = images_list[0][:150]\n",
    "            temp2 = images_list[0][-4:]\n",
    "            train_im_names.append(temp1 + str(i) + temp2)\n",
    "    \n",
    "    path = images_list[0][:143]\n",
    "    file1 = 'val.txt'\n",
    "    file2 = 'train.txt'\n",
    "    with open(os.path.join(path, file2), 'w') as train_file: \n",
    "        #pass\n",
    "        for line in train_im_names:\n",
    "            line = line+'\\n'\n",
    "            train_file.write(line)\n",
    "    with open(os.path.join(path, file1), 'w') as val_file: \n",
    "        #pass\n",
    "        for line in val_im_names:\n",
    "            line = line+'\\n'\n",
    "            val_file.write(line)\n",
    "    \n",
    "    \n",
    "    return train_im_names,val_im_names"
   ]
  },
  {
   "cell_type": "code",
   "execution_count": 81,
   "metadata": {},
   "outputs": [],
   "source": [
    "#t,v = preprocess_data()"
   ]
  },
  {
   "cell_type": "code",
   "execution_count": null,
   "metadata": {},
   "outputs": [],
   "source": []
  }
 ],
 "metadata": {
  "kernelspec": {
   "display_name": "Python 3",
   "language": "python",
   "name": "python3"
  },
  "language_info": {
   "codemirror_mode": {
    "name": "ipython",
    "version": 3
   },
   "file_extension": ".py",
   "mimetype": "text/x-python",
   "name": "python",
   "nbconvert_exporter": "python",
   "pygments_lexer": "ipython3",
   "version": "3.7.3"
  }
 },
 "nbformat": 4,
 "nbformat_minor": 2
}
