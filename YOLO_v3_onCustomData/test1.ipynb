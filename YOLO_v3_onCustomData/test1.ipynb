{
 "cells": [
  {
   "cell_type": "code",
   "execution_count": 8,
   "metadata": {},
   "outputs": [],
   "source": [
    "import cv2\n",
    "import os\n",
    "import random\n",
    "import os.path as osp\n",
    "import numpy as np"
   ]
  },
  {
   "cell_type": "markdown",
   "metadata": {},
   "source": [
    "## Storing data in the same directory"
   ]
  },
  {
   "cell_type": "code",
   "execution_count": 9,
   "metadata": {},
   "outputs": [],
   "source": [
    "def read_images(images ):\n",
    "    try:\n",
    "        imlist = [osp.join(osp.realpath('.'), images, img) for img in os.listdir(images)]\n",
    "    except NotADirectoryError:\n",
    "        imlist = []\n",
    "        imlist.append(osp.join(osp.realpath('.'), images))\n",
    "    except FileNotFoundError:\n",
    "        print (\"No file or directory with the name {}\".format(images))\n",
    "        exit()\n",
    "    return imlist"
   ]
  },
  {
   "cell_type": "code",
   "execution_count": 3,
   "metadata": {},
   "outputs": [],
   "source": [
    "# images_list = read_images(images = 'human')\n",
    "# images_list2 = read_images(images = 'gorilla')\n",
    "# loaded_ims = [cv2.imread(x) for x in images_list]\n",
    "# loaded_ims2 = [cv2.imread(x) for x in images_list2]\n",
    "# loaded = loaded_ims + loaded_ims2\n",
    "# for i in range (len(loaded)):\n",
    "#     dets = cv2.UMat(np.array(loaded[i]))\n",
    "#     cv2.imwrite('./data/images/'+str(i)+'.jpg',dets)"
   ]
  },
  {
   "cell_type": "code",
   "execution_count": 10,
   "metadata": {},
   "outputs": [],
   "source": [
    "images_list = read_images(images = 'animals4')\n",
    "loaded_ims = [cv2.imread(x) for x in images_list]"
   ]
  },
  {
   "cell_type": "code",
   "execution_count": 11,
   "metadata": {},
   "outputs": [
    {
     "data": {
      "text/plain": [
       "50"
      ]
     },
     "execution_count": 11,
     "metadata": {},
     "output_type": "execute_result"
    }
   ],
   "source": [
    "len(loaded_ims)"
   ]
  },
  {
   "cell_type": "code",
   "execution_count": 13,
   "metadata": {},
   "outputs": [],
   "source": [
    "for i in range(len(loaded_ims)):\n",
    "    #pass\n",
    "#     if i + 118 == 187:\n",
    "#         continue\n",
    "    arr = np.array(loaded_ims[i])\n",
    "    dets = cv2.UMat(arr)\n",
    "    cv2.imwrite('./data/images/'+str(i+490)+'.jpg',dets)"
   ]
  },
  {
   "cell_type": "code",
   "execution_count": 7,
   "metadata": {},
   "outputs": [
    {
     "data": {
      "text/plain": [
       "True"
      ]
     },
     "execution_count": 7,
     "metadata": {},
     "output_type": "execute_result"
    }
   ],
   "source": [
    "arr = np.array(loaded_ims[0])\n",
    "dets = cv2.UMat(arr)\n",
    "cv2.imwrite('./data/im/'+str(i+118)+'.jpg',dets)"
   ]
  },
  {
   "cell_type": "code",
   "execution_count": null,
   "metadata": {
    "scrolled": true
   },
   "outputs": [],
   "source": []
  },
  {
   "cell_type": "code",
   "execution_count": null,
   "metadata": {},
   "outputs": [],
   "source": []
  }
 ],
 "metadata": {
  "kernelspec": {
   "display_name": "Python 3",
   "language": "python",
   "name": "python3"
  },
  "language_info": {
   "codemirror_mode": {
    "name": "ipython",
    "version": 3
   },
   "file_extension": ".py",
   "mimetype": "text/x-python",
   "name": "python",
   "nbconvert_exporter": "python",
   "pygments_lexer": "ipython3",
   "version": "3.7.3"
  }
 },
 "nbformat": 4,
 "nbformat_minor": 2
}
